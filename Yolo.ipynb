{
  "cells": [
    {
      "cell_type": "markdown",
      "metadata": {
        "id": "view-in-github",
        "colab_type": "text"
      },
      "source": [
        "<a href=\"https://colab.research.google.com/github/Valmario/Yolo/blob/main/Yolo.ipynb\" target=\"_parent\"><img src=\"https://colab.research.google.com/assets/colab-badge.svg\" alt=\"Open In Colab\"/></a>"
      ]
    },
    {
      "cell_type": "code",
      "execution_count": null,
      "metadata": {
        "colab": {
          "base_uri": "https://localhost:8080/"
        },
        "id": "GgA5wlKF-fZe",
        "outputId": "cd0644cc-6e9b-46a4-d907-1fe2ca5ad49c"
      },
      "outputs": [
        {
          "name": "stdout",
          "output_type": "stream",
          "text": [
            "\n"
          ]
        }
      ],
      "source": [
        "import tensorflow as tf\n",
        "device_name = tf.test.gpu_device_name()\n",
        "print(device_name)"
      ]
    },
    {
      "cell_type": "code",
      "execution_count": null,
      "metadata": {
        "colab": {
          "base_uri": "https://localhost:8080/"
        },
        "id": "msbHLnLd-w34",
        "outputId": "9402ef0d-5be9-47e7-ea2d-6b578f60a7d2"
      },
      "outputs": [
        {
          "name": "stdout",
          "output_type": "stream",
          "text": [
            "Cloning into 'AlexeyAB'...\n",
            "remote: Not Found\n",
            "fatal: repository 'https://github.com/AlexeyAB/' not found\n"
          ]
        }
      ],
      "source": [
        "!git clone https://github.com/AlexeyAB/"
      ]
    },
    {
      "cell_type": "code",
      "execution_count": null,
      "metadata": {
        "colab": {
          "base_uri": "https://localhost:8080/"
        },
        "id": "nvbUey4C-4m7",
        "outputId": "7bfc7d70-a817-47df-ebb4-62fd6e1cae58"
      },
      "outputs": [
        {
          "name": "stdout",
          "output_type": "stream",
          "text": [
            "download.png  yolo11n.pt\n"
          ]
        }
      ],
      "source": [
        "ls"
      ]
    },
    {
      "cell_type": "code",
      "execution_count": null,
      "metadata": {
        "colab": {
          "base_uri": "https://localhost:8080/"
        },
        "id": "66yqxsZb--x9",
        "outputId": "5a62613b-e322-443b-fde8-e7085986300d"
      },
      "outputs": [
        {
          "name": "stdout",
          "output_type": "stream",
          "text": [
            "[Errno 2] No such file or directory: 'darknet'\n",
            "/content\n"
          ]
        }
      ],
      "source": [
        "cd darknet"
      ]
    },
    {
      "cell_type": "code",
      "execution_count": null,
      "metadata": {
        "colab": {
          "base_uri": "https://localhost:8080/"
        },
        "id": "dMooFhbz-_3m",
        "outputId": "139d34d2-068c-48b2-a7c2-cb4ca933720f"
      },
      "outputs": [
        {
          "name": "stdout",
          "output_type": "stream",
          "text": [
            "download.png  yolo11n.pt\n"
          ]
        }
      ],
      "source": [
        "ls"
      ]
    },
    {
      "cell_type": "code",
      "execution_count": null,
      "metadata": {
        "colab": {
          "base_uri": "https://localhost:8080/"
        },
        "id": "40z1lgAJ_Jgt",
        "outputId": "e0a2ab45-9ebf-4c84-e25b-5614c88eb9b5"
      },
      "outputs": [
        {
          "name": "stdout",
          "output_type": "stream",
          "text": [
            "sed: can't read Makefile: No such file or directory\n",
            "sed: can't read Makefile: No such file or directory\n",
            "sed: can't read Makefile: No such file or directory\n"
          ]
        }
      ],
      "source": [
        "!sed -i 's/OPENCV=0/OPENCV=1/g' Makefile\n",
        "!sed -i 's/GPU=0/GPU=1/g' Makefile\n",
        "!sed -i 's/CUDNN=0/CUDNN=1/g' Makefile"
      ]
    },
    {
      "cell_type": "code",
      "execution_count": null,
      "metadata": {
        "colab": {
          "base_uri": "https://localhost:8080/"
        },
        "id": "IigBEYxu_LaR",
        "outputId": "bd316c84-21b8-4821-aa1f-60ba4bef4395"
      },
      "outputs": [
        {
          "name": "stdout",
          "output_type": "stream",
          "text": [
            "make: *** No targets specified and no makefile found.  Stop.\n"
          ]
        }
      ],
      "source": [
        "!make"
      ]
    },
    {
      "cell_type": "code",
      "execution_count": null,
      "metadata": {
        "colab": {
          "base_uri": "https://localhost:8080/"
        },
        "id": "ltvf_iiu_SVM",
        "outputId": "60016448-45d3-4096-cfa3-22c151b1a6a6"
      },
      "outputs": [
        {
          "name": "stdout",
          "output_type": "stream",
          "text": [
            "--2025-02-20 15:32:30--  https://github.com/AlexeyAB/darknet/\n",
            "Resolving github.com (github.com)... 140.82.112.4\n",
            "Connecting to github.com (github.com)|140.82.112.4|:443... connected.\n",
            "HTTP request sent, awaiting response... 200 OK\n",
            "Length: unspecified [text/html]\n",
            "Saving to: ‘index.html’\n",
            "\n",
            "index.html              [  <=>               ] 636.39K  1.61MB/s    in 0.4s    \n",
            "\n",
            "2025-02-20 15:32:32 (1.61 MB/s) - ‘index.html’ saved [651668]\n",
            "\n"
          ]
        }
      ],
      "source": [
        "!wget https://github.com/AlexeyAB/darknet/"
      ]
    },
    {
      "cell_type": "code",
      "execution_count": null,
      "metadata": {
        "colab": {
          "base_uri": "https://localhost:8080/"
        },
        "id": "5G5mY_fz_X36",
        "outputId": "ed70854f-c933-4188-ad3c-67bfd05a3dd2"
      },
      "outputs": [
        {
          "name": "stdout",
          "output_type": "stream",
          "text": [
            "/bin/bash: line 1: ./darknet: No such file or directory\n"
          ]
        }
      ],
      "source": [
        "!./darknet detect cfg/yolov4.cfg yolov4."
      ]
    },
    {
      "cell_type": "code",
      "execution_count": 38,
      "metadata": {
        "id": "RV5vhBlJ_eaC"
      },
      "outputs": [],
      "source": [
        "import cv2\n",
        "import matplotlib.pyplot as plt\n",
        "def mostrar (frame):\n",
        "  imagem = cv2.imread(frame)\n",
        "  fig = plt.gcf() #função que chama uma figura do matplotlib\n",
        "  fig.set_size_inches(18,10) #tamanho que vai ser gerada a saída\n",
        "  plt.axis('off') #retira do formato padrão do matplotlib (como um plano cartesiano)\n",
        "  plt.imshow(cv2.cvtColor(imagem, cv2.COLOR_BGR2RGB))\n",
        "  plt.show()"
      ]
    }
  ],
  "metadata": {
    "colab": {
      "provenance": [],
      "authorship_tag": "ABX9TyN1wg6rvz1NJNALE95whRZH",
      "include_colab_link": true
    },
    "kernelspec": {
      "display_name": "Python 3",
      "name": "python3"
    },
    "language_info": {
      "name": "python"
    }
  },
  "nbformat": 4,
  "nbformat_minor": 0
}